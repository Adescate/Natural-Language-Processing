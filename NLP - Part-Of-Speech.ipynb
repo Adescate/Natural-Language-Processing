{
 "cells": [
  {
   "cell_type": "markdown",
   "metadata": {},
   "source": [
    "# Part-Of-Speech"
   ]
  },
  {
   "cell_type": "markdown",
   "metadata": {},
   "source": [
    "Part-of-speech (POS) is a grammatical concept that categorizes words based on their syntactic and semantic roles in a sentence. In natural language processing, POS tagging is the process of assigning a POS tag to each word in a text corpus, based on its definition and context.\n",
    "\n",
    "The most common POS tags include nouns, verbs, adjectives, adverbs, pronouns, prepositions, conjunctions, and interjections. Each of these categories serves a different grammatical function in a sentence. For example, nouns are typically used to represent people, places, things, or ideas, while verbs represent actions or states of being.\n",
    "\n",
    "POS tagging is an important technique in natural language processing, as it can help to identify the grammatical structure of a sentence, and enable the development of more sophisticated algorithms for text analysis, such as sentiment analysis, named entity recognition, and machine translation."
   ]
  },
  {
   "cell_type": "code",
   "execution_count": 2,
   "metadata": {},
   "outputs": [
    {
     "name": "stderr",
     "output_type": "stream",
     "text": [
      "[nltk_data] Downloading package punkt to\n",
      "[nltk_data]     C:\\Users\\33629\\AppData\\Roaming\\nltk_data...\n",
      "[nltk_data]   Package punkt is already up-to-date!\n",
      "[nltk_data] Downloading package averaged_perceptron_tagger to\n",
      "[nltk_data]     C:\\Users\\33629\\AppData\\Roaming\\nltk_data...\n",
      "[nltk_data]   Package averaged_perceptron_tagger is already up-to-\n",
      "[nltk_data]       date!\n"
     ]
    },
    {
     "data": {
      "text/plain": [
       "True"
      ]
     },
     "execution_count": 2,
     "metadata": {},
     "output_type": "execute_result"
    }
   ],
   "source": [
    "import nltk\n",
    "\n",
    "# Download the necessary NLTK data for POS tagging\n",
    "nltk.download('punkt')\n",
    "nltk.download('averaged_perceptron_tagger')"
   ]
  },
  {
   "cell_type": "code",
   "execution_count": 6,
   "metadata": {},
   "outputs": [
    {
     "name": "stdout",
     "output_type": "stream",
     "text": [
      "(The,DT)\n",
      "(quick,JJ)\n",
      "(brown,NN)\n",
      "(fox,NN)\n",
      "(jumped,VBD)\n",
      "(over,IN)\n",
      "(the,DT)\n",
      "(lazy,JJ)\n",
      "(dog,NN)\n"
     ]
    }
   ],
   "source": [
    "# Sample text to analyze\n",
    "text = \"The quick brown fox jumped over the lazy dog\"\n",
    "\n",
    "# Tokenize the text into individual words\n",
    "tokens = nltk.word_tokenize(text)\n",
    "\n",
    "# Perform POS tagging on the tokens\n",
    "pos_tags = nltk.pos_tag(tokens)\n",
    "\n",
    "# Print out the POS tags for each word\n",
    "for word, tag in pos_tags:\n",
    "    print(\"(\"+word+\",\"+ tag+\")\")"
   ]
  },
  {
   "cell_type": "raw",
   "metadata": {},
   "source": [
    "POS Tag\tDefinition\n",
    "      \n",
    "Determinant (DT)    A word that like \"the\" or \"a\" in english language\n",
    "Noun (NN)           A word that represents a person, place, thing, or idea.\n",
    "Verb (VB)\t        A word that represents an action, occurrence, or state of being.\n",
    "Adjective (JJ)\t    A word that describes a noun or pronoun.\n",
    "Adverb (RB)\t        A word that describes a verb, adjective, or other adverb.\n",
    "Pronoun (PR)\t    A word that replaces a noun or noun phrase, often to avoid repetition.\n",
    "Preposition (IN)\tA word that indicates the relationship between a noun or pronoun and other words in a sentence.\n",
    "Conjunction (CC)\tA word that connects words, phrases, or clauses in a sentence.\n",
    "Interjection (INT)\tA word that expresses strong emotion or sudden outburst.\n",
    "\n",
    "There is also sub-POS tags like VBD ( Verb Past Tense )"
   ]
  },
  {
   "cell_type": "code",
   "execution_count": null,
   "metadata": {},
   "outputs": [],
   "source": []
  }
 ],
 "metadata": {
  "kernelspec": {
   "display_name": "Python 3",
   "language": "python",
   "name": "python3"
  },
  "language_info": {
   "codemirror_mode": {
    "name": "ipython",
    "version": 3
   },
   "file_extension": ".py",
   "mimetype": "text/x-python",
   "name": "python",
   "nbconvert_exporter": "python",
   "pygments_lexer": "ipython3",
   "version": "3.7.6"
  }
 },
 "nbformat": 4,
 "nbformat_minor": 4
}
