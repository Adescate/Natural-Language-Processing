{
 "cells": [
  {
   "cell_type": "markdown",
   "metadata": {},
   "source": [
    "# Cosinus distance or Euclidian distance ?"
   ]
  },
  {
   "cell_type": "markdown",
   "metadata": {},
   "source": [
    "Both cosine distance and Euclidean distance are commonly used in NLP to measure the similarity or distance between word vectors. Cosine distance is often preferred over Euclidean distance in NLP because it is more effective in capturing semantic similarity. It measures the cosine of the angle between two vectors, which essentially measures the similarity of their direction, regardless of their magnitude. This makes it more robust to differences in word frequency and length.\n",
    "\n",
    "Moreover, there is also a difference between them in term of getting the nearest neighbour. On the one hand, the cosinus similiraty should be maximized and on the other hand the euclidian distance should be minimized"
   ]
  },
  {
   "cell_type": "code",
   "execution_count": 1,
   "metadata": {
    "scrolled": false
   },
   "outputs": [
    {
     "name": "stdout",
     "output_type": "stream",
     "text": [
      "Requirement already satisfied: gensim in c:\\users\\33629\\anaconda3\\lib\\site-packages (4.2.0)\n",
      "Requirement already satisfied: scipy>=0.18.1 in c:\\users\\33629\\anaconda3\\lib\\site-packages (from gensim) (1.4.1)\n",
      "Requirement already satisfied: numpy>=1.17.0 in c:\\users\\33629\\anaconda3\\lib\\site-packages (from gensim) (1.18.1)\n",
      "Requirement already satisfied: smart-open>=1.8.1 in c:\\users\\33629\\anaconda3\\lib\\site-packages (from gensim) (6.3.0)\n",
      "Requirement already satisfied: Cython==0.29.28 in c:\\users\\33629\\anaconda3\\lib\\site-packages (from gensim) (0.29.28)\n"
     ]
    }
   ],
   "source": [
    "!pip install gensim"
   ]
  },
  {
   "cell_type": "markdown",
   "metadata": {},
   "source": [
    "Word2Vec Pre-trained vectors trained on a part of the Google News dataset (about 100 billion words)."
   ]
  },
  {
   "cell_type": "code",
   "execution_count": 6,
   "metadata": {},
   "outputs": [
    {
     "name": "stdout",
     "output_type": "stream",
     "text": [
      "[==================================================] 100.0% 1662.8/1662.8MB downloaded\n",
      "C:\\Users\\33629/gensim-data\\word2vec-google-news-300\\word2vec-google-news-300.gz\n"
     ]
    }
   ],
   "source": [
    "import gensim.downloader as api\n",
    "path = api.load(\"word2vec-google-news-300\", return_path=True)\n",
    "print(path)"
   ]
  },
  {
   "cell_type": "code",
   "execution_count": 7,
   "metadata": {},
   "outputs": [],
   "source": [
    "model = gensim.models.KeyedVectors.load_word2vec_format(path, binary=True)"
   ]
  },
  {
   "cell_type": "code",
   "execution_count": 9,
   "metadata": {},
   "outputs": [],
   "source": [
    "from scipy.spatial.distance import cosine, euclidean"
   ]
  },
  {
   "cell_type": "code",
   "execution_count": 12,
   "metadata": {},
   "outputs": [
    {
     "name": "stdout",
     "output_type": "stream",
     "text": [
      "Nearest neighbors of 'left' using cosine similarity:\n",
      "leaving 0.6707000732421875\n",
      "leave 0.525093138217926\n",
      "leaves 0.522864580154419\n",
      "returned 0.5059226751327515\n",
      "right 0.49213990569114685\n",
      "departed 0.49109703302383423\n",
      "limped 0.48599502444267273\n",
      "went 0.4719873368740082\n",
      "remaining 0.465037077665329\n",
      "empty 0.4546155035495758\n",
      "\n",
      "Nearest neighbors of 'left' using Euclidean distance:\n",
      "leaving 1.6367921829223633\n",
      "McCuin_dialed_authorities 1.7510281801223755\n",
      "trembled_uncontrollably 1.7627252340316772\n",
      "Illini_Shaun_Pruitt 1.7631374597549438\n",
      "Our_pomegranate_orchard 1.7666441202163696\n",
      "ball_richocheted 1.780613660812378\n",
      "deked_Lundqvist 1.7857111692428589\n",
      "crease_JVR_punched 1.7858235836029053\n",
      "redirected_Jason_Pominville 1.7860292196273804\n",
      "halfback_scampered 1.7880470752716064\n"
     ]
    }
   ],
   "source": [
    "# Get the word vector for \"left\"\n",
    "left_vec = model.get_vector(\"left\")\n",
    "\n",
    "# Compute the cosine similarities and Euclidean distances between \"left\" and all other words in the vocabulary\n",
    "cosine_sims = [1 - cosine(left_vec, model.get_vector(word)) for word in model.index_to_key]\n",
    "euclidean_dists = [euclidean(left_vec, model.get_vector(word)) for word in model.index_to_key]\n",
    "\n",
    "# Sort the results in descending order of similarity or distance\n",
    "cosine_similarities_sorted = sorted(zip(model.index_to_key, cosine_sims), key=lambda x: x[1], reverse=True)\n",
    "euclidean_distances_sorted = sorted(zip(model.index_to_key, euclidean_dists), key=lambda x: x[1])\n",
    "\n",
    "# Get the top 10 nearest neighbors using cosine similarity\n",
    "cosine_neighbors = cosine_similarities_sorted[1:11]\n",
    "print(\"Nearest neighbors of 'left' using cosine similarity:\")\n",
    "for word, similarity in cosine_neighbors:\n",
    "    print(word, similarity)\n",
    "\n",
    "# Get the top 10 nearest neighbors using Euclidean distance\n",
    "euclidean_neighbors = euclidean_distances_sorted[1:11]\n",
    "print(\"\\nNearest neighbors of 'left' using Euclidean distance:\")\n",
    "for word, distance in euclidean_neighbors:\n",
    "    print(word, distance)"
   ]
  },
  {
   "cell_type": "markdown",
   "metadata": {},
   "source": [
    "The results are definitely different.\n",
    "Therefore, It is important to choose carefully the distance/similarity tool in NLP. Indeed, the cosinus similarity is more robust and deals with unbalanced data better than euclidian distance."
   ]
  }
 ],
 "metadata": {
  "kernelspec": {
   "display_name": "Python 3",
   "language": "python",
   "name": "python3"
  },
  "language_info": {
   "codemirror_mode": {
    "name": "ipython",
    "version": 3
   },
   "file_extension": ".py",
   "mimetype": "text/x-python",
   "name": "python",
   "nbconvert_exporter": "python",
   "pygments_lexer": "ipython3",
   "version": "3.7.6"
  }
 },
 "nbformat": 4,
 "nbformat_minor": 4
}
